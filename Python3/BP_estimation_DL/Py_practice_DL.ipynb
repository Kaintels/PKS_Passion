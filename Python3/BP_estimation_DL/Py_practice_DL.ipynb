{
 "cells": [
  {
   "cell_type": "markdown",
   "metadata": {},
   "source": [
    "## 심전도와 맥파를 이용한 딥러닝 기반 혈압 추정\n",
    "---"
   ]
  },
  {
   "cell_type": "markdown",
   "metadata": {},
   "source": [
    "### Code infomation"
   ]
  },
  {
   "cell_type": "markdown",
   "metadata": {},
   "source": [
    "Created on Sun Aug 25 19:57:14 2019\n",
    "\n",
    "Author : Kaintels (hanu)\n",
    "\n",
    "Ver : 1.3.0\n",
    "\n",
    "Environment : Anaconda 3 and Python 3.7.3 "
   ]
  },
  {
   "cell_type": "markdown",
   "metadata": {},
   "source": [
    "### 데이터 세트 정보"
   ]
  },
  {
   "cell_type": "markdown",
   "metadata": {},
   "source": [
    "1. 맥파(PPG) 신호 125Hz\n",
    "2. 동맥혈압(ABP) 신호 125Hz\n",
    "3. 심전도(ECG) 신호 125Hz"
   ]
  },
  {
   "cell_type": "markdown",
   "metadata": {},
   "source": [
    "### 사용가능한 라이브러리"
   ]
  },
  {
   "cell_type": "markdown",
   "metadata": {},
   "source": [
    "- numpy : 수치 및 행렬 계산을 위한 라이브러리\n",
    "- matplotlib : 그래프 도식화 라이브러리\n",
    "- pandas : 데이터 불러오기 및 데이터 처리 라이브러리\n",
    "- scipy : 수학 및 신호처리 라이브러리\n",
    "- tensorflow : 딥러닝 라이브러리\n",
    "- keras : tensorflow의 high-level API\n",
    "\n",
    "본 실습자료에는 cpu 버전만 사용 (gpu 버전에 비해 느림)"
   ]
  },
  {
   "cell_type": "markdown",
   "metadata": {},
   "source": [
    "## 파이썬 라이브러리 import 및 예제 데이터 불러오기\n",
    "\n",
    "---\n"
   ]
  },
  {
   "cell_type": "markdown",
   "metadata": {},
   "source": [
    "### 라이브러리 설치 (!pip install -r requirements.txt을 실행, 실행은 run 또는 shift-enter, 창을 닫을시 자동 삭제됨)"
   ]
  },
  {
   "cell_type": "code",
   "execution_count": 4,
   "metadata": {},
   "outputs": [
    {
     "name": "stderr",
     "output_type": "stream",
     "text": [
      "ERROR: Invalid requirement: '#'\n"
     ]
    }
   ],
   "source": [
    "!pip install -r requirements.txt # 처음 설치 필수, 종료시 매번 초기화되는 구조로 창을 닫을 시 자동삭제됨"
   ]
  },
  {
   "cell_type": "code",
   "execution_count": 3,
   "metadata": {},
   "outputs": [],
   "source": [
    "%config IPCompleter.greedy=True"
   ]
  },
  {
   "cell_type": "code",
   "execution_count": null,
   "metadata": {},
   "outputs": [],
   "source": []
  }
 ],
 "metadata": {
  "kernelspec": {
   "display_name": "Python 3",
   "language": "python",
   "name": "python3"
  },
  "language_info": {
   "codemirror_mode": {
    "name": "ipython",
    "version": 3
   },
   "file_extension": ".py",
   "mimetype": "text/x-python",
   "name": "python",
   "nbconvert_exporter": "python",
   "pygments_lexer": "ipython3",
   "version": "3.7.4"
  },
  "varInspector": {
   "cols": {
    "lenName": 16,
    "lenType": 16,
    "lenVar": 40
   },
   "kernels_config": {
    "python": {
     "delete_cmd_postfix": "",
     "delete_cmd_prefix": "del ",
     "library": "var_list.py",
     "varRefreshCmd": "print(var_dic_list())"
    },
    "r": {
     "delete_cmd_postfix": ") ",
     "delete_cmd_prefix": "rm(",
     "library": "var_list.r",
     "varRefreshCmd": "cat(var_dic_list()) "
    }
   },
   "types_to_exclude": [
    "module",
    "function",
    "builtin_function_or_method",
    "instance",
    "_Feature"
   ],
   "window_display": false
  }
 },
 "nbformat": 4,
 "nbformat_minor": 2
}
